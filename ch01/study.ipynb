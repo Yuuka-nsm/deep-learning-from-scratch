{
  "nbformat": 4,
  "nbformat_minor": 0,
  "metadata": {
    "colab": {
      "provenance": [],
      "authorship_tag": "ABX9TyPw9FizpPu0XyVlUpGWfvj2",
      "include_colab_link": true
    },
    "kernelspec": {
      "name": "python3",
      "display_name": "Python 3"
    },
    "language_info": {
      "name": "python"
    }
  },
  "cells": [
    {
      "cell_type": "markdown",
      "metadata": {
        "id": "view-in-github",
        "colab_type": "text"
      },
      "source": [
        "<a href=\"https://colab.research.google.com/github/Yuuka-nsm/deep-learning-from-scratch/blob/master/ch01/study.ipynb\" target=\"_parent\"><img src=\"https://colab.research.google.com/assets/colab-badge.svg\" alt=\"Open In Colab\"/></a>"
      ]
    },
    {
      "cell_type": "code",
      "execution_count": 1,
      "metadata": {
        "id": "169HmLA7GIV4"
      },
      "outputs": [],
      "source": [
        "import sys, os"
      ]
    },
    {
      "cell_type": "code",
      "source": [
        "sys.path.append(os.pardir)"
      ],
      "metadata": {
        "id": "9XqzFJjSGLnI"
      },
      "execution_count": null,
      "outputs": []
    }
  ]
}